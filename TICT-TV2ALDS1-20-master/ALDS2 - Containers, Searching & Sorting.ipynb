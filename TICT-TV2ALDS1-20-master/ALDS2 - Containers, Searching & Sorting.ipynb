{
 "cells": [
  {
   "cell_type": "markdown",
   "metadata": {},
   "source": [
    "# ALDS Tutorial 2: Containers, zoeken, sorteren\n",
    "\n",
    "Ja!!! Welkom terug! Ik hoop dat jullie week 1 goed door zijn gekomen en weer zin hebben in week 2! \n",
    "\n",
    "Laten we eerst weer eens even beginnen met het doen van de nodige imports: "
   ]
  },
  {
   "cell_type": "code",
   "execution_count": 6,
   "metadata": {},
   "outputs": [
    {
     "name": "stdout",
     "output_type": "stream",
     "text": [
      "Python version is (3, 11, 0, 'final', 0) -> okay\n",
      "IPython version is (8, 6, 0, '') -> okay\n"
     ]
    }
   ],
   "source": [
    "import sys\n",
    "\n",
    "# Asserts zijn handig: ingebouwde unit-testjes in Python\n",
    "assert sys.version_info.major == 3, \"You need python 3.\"\n",
    "print(\"Python version is {} -> okay\".format(sys.version_info[0:30]))\n",
    "\n",
    "import IPython\n",
    "\n",
    "assert IPython.version_info[0] >= 7, \"You need IPython >= 7\"\n",
    "print(\"IPython version is {} -> okay\".format(IPython.version_info))\n",
    "\n",
    "\n",
    "from matplotlib import pyplot as plt\n",
    "import numpy as np\n",
    "import time\n",
    "import statistics as stats\n"
   ]
  },
  {
   "cell_type": "markdown",
   "metadata": {},
   "source": [
    "Deze tutorial gaat weer gebruik maken van numpy arrays (np.array). Dit is een ontzettend fijn datatype dat erg geoptimaliseerd is (zowel qua memory, als runtime voor allerhande standaardfuncties). Bovendien is er gebruik van numpy arrays enorm flexibel. Deze datastructuur is dusdanig veel gebruikt en heeft zoveel impact gehad dat er een Nature-artikel (dat is één van de belangrijkste wetenschappelijke tijdschriften) over is verschenen: https://www.nature.com/articles/s41586-020-2649-2 (Zeker de moeite waard om eens te lezen). \n",
    "\n",
    "Qua tips voor het gebruik van numpy arrays raad ik de volgende youtube tutorial aan: https://www.youtube.com/watch?v=8Mpc9ukltVA\n",
    "\n",
    "Wij gaan nu een aantal opdrachten doen waarbij we gebruik gaan maken van deze numpy arrays om datastructuren te maken op kop van een array. (Deze gebruik ik liever dan de Python list, omdat numpy arrays zoals gezegd echte arrays zijn.) "
   ]
  },
  {
   "cell_type": "markdown",
   "metadata": {},
   "source": [
    "## Opgave 1: een eigen Stack (een plek op silicoon)\n",
    "\n",
    "Schrijf een eigen Stack-klasse op basis van een numpy array, waar alleen integers in mogen. Je mag zelf kiezen welk soort integers want in numpy mag je kiezen hoe groot de ints mogen zijn en of ze signed of unsigned moeten zijn. Je kan hiervoor dtype gebruiken bij het aanmaken van de array, bijvoorbeeld: dtype='int16' levert 16bit signed integers op. \n",
    "\n",
    "De Stack heeft een fixed capacity (de grootte van de array). Implementeer een klasse MyStack, waar in ieder geval de volgende functies in verwerkt zijn. Zet bij elke functie van de klasse een runtime-complexity analyse (dus de complexiteit middels de big-Oh notatie, en een korte uitleg daarvan). \n",
    "* push(int) (Zet een item op \"kop\" van de lijst - je mag zelf kiezen hoe de Stack groeit, return een boolean die zegt of het pushen gelukt it. Pushen lukt namelijk niet als de maximale capaciteit bereikt is.)\n",
    "* pop() (Return en verwijder het element dat nu op kop van de Stack staat) \n",
    "* peek() (Return het element op kop van de Stack, maar verwijder hem niet) \n",
    "* isEmpty() (Return of de Stack nu leeg is, d.w.z., er nu geen elementen in staan)\n",
    "* isFull() (Return of the maxCapacity bereikt is)\n",
    "\n",
    "Daarna willen we graag de capaciteit kunnen vergroten. Voeg een functie toe \n",
    "* doubleCapacity() (Verdubbel de capaciteit van de Stack. Zorg ervoor dat de volgorde van de elementen op de Stack in tact blijft.) Wat is de runtime complexity (big-Oh) van deze functie? Leg dit uit in het commentaar.\n",
    "\n",
    "Bedenk goede unit tests om de werking van de Stack te testen. Gebruik hiervoor het Python-commando \"assert\" (voor een voorbeeld, zie vorige tutorial). "
   ]
  },
  {
   "cell_type": "code",
   "execution_count": 211,
   "metadata": {},
   "outputs": [
    {
     "name": "stdout",
     "output_type": "stream",
     "text": [
      "stack =  ['1' '2' '8']\n",
      "size =  3\n",
      "['1' '2' '8' '9']\n",
      "['1' '2' '8']\n",
      "8\n"
     ]
    }
   ],
   "source": [
    "class myStack:\n",
    "    # Deze methode heeft een runtime van O(...), omdat...\n",
    "    def __init__(self, max_capacity):\n",
    "        self.item = np.array([], dtype = np.int16)\n",
    "        #self.currentsize = np.size(self.item)\n",
    "        self.max_capacity =  max_capacity - 1\n",
    "        self.currentsize = 0\n",
    "        \n",
    "        \n",
    "        \n",
    "\n",
    "    def push(self, element): #  pushed de elements bij de laaste index \n",
    "        if self.currentsize <= self.max_capacity: \n",
    "            self.item = np.append(self.item, element)\n",
    "            self.currentsize = self.currentsize + 1\n",
    "            return True\n",
    "        return False\n",
    "\n",
    "    \n",
    "        #if self.currentsize >= self.max_capacity:\n",
    "           #return False\n",
    "        #else:\n",
    "           #self.item[currentsize] = element\n",
    "           #currentsize += 1\n",
    "\n",
    "\n",
    "\n",
    "\n",
    "    def pop(self):\n",
    "        popvalue = self.item[self.currentsize - 1]\n",
    "        self.item = np.delete(self.item, self.currentsize -1)\n",
    "        self.currentsize = self.currentsize - 1\n",
    "        return popvalue\n",
    "\n",
    "    def peek(self):\n",
    "        return self.item[self.currentsize - 1]\n",
    "\n",
    "    def isEmpty(self):\n",
    "        if self.currentsize == 0:\n",
    "            return True\n",
    "        return False\n",
    "    \n",
    "    def isFull(self):\n",
    "        if self.currentsize >= self.max_capacity:\n",
    "            return True\n",
    "        return False\n",
    "        \n",
    "\n",
    "        \n",
    "    \n",
    "        \n",
    "        \n",
    "            \n",
    "def main():\n",
    "    \n",
    "    stack = myStack(4)\n",
    "    stack.push(\"1\")\n",
    "    stack.push('2')\n",
    "    stack.push('8')\n",
    "    print(\"stack = \", stack.item ) \n",
    "    print(\"size = \", stack.currentsize)\n",
    "    assert stack.push(9) == True\n",
    "    print(stack.item)\n",
    "    #assert stack.peek() == 9, \"hij is leeg\"\n",
    "    stack.pop()\n",
    "    print(stack.item)\n",
    "    #assert stack.isEmpty() == False\n",
    "    #assert stack.isFull() == True\n",
    "    print(stack.peek())\n",
    "    \n",
    "    \n",
    "    \n",
    "\n",
    "if __name__ == \"__main__\":\n",
    "    main()\n",
    "\n",
    "    # Vul zelf de overige functies aan.\n"
   ]
  },
  {
   "cell_type": "markdown",
   "metadata": {},
   "source": [
    "## Opgave 2: Quick-sort en meer Quick-sort\n",
    "\n",
    "De runtime van Quick-sort is erg afhankelijk van de keuze van de pivot. We gaan in deze opgave hiervoor verschillende alternatieven bekijken en vergelijken om te zien wat daar het effect van is; zowel theoretisch (in termen van de big-Oh) als in de praktijk (door runtime te meten). \n",
    "\n",
    "* Schrijf een functie voor het sorteren van een numpy array met Quicksort. (Zie Algoritmes 16 en 17 van hoofdstuk 7.3 in de reader)\n",
    "* Pas de functie zo aan dat het aantal keer dat twee waardes vergeleken worden ook wordt gereturnt (naast de gesorteerde lijst). (NB: in Python kan je meerdere dingen tegelijk teruggeven bij een functie.) \n",
    "* Schrijf een test-functie, waarbij de gemiddelde waarde van het (bovenstaande) aantal vergelijkingen wordt geschat, door het algoritme X keer voor verschillende random lijsten van lengte L te runnen. Geef naast dit gemiddelde ook de standaardafwijking (standard deviation) terug.  \n",
    "* Schrijf nu een tweede versie van quick-sort, maar nu zo dat de pivot anders wordt gekozen. Namelijk, neem de minimale waarde van tussen (en inclusief) $lo$ en $hi$ (in de array $a$) als de pivot. Geef wederom het aantal vergelijkingen terug. \n",
    "* Vergelijk de twee versies van quicksort voor verschillende groottes van arrays, en plot de resultaten middels matplotlib.pyplot (zoals we ook in de vorige tutorial hadden gedaan), vergeet niet de standaardafwijking mee te plotten als een error region. \n",
    "* Wat valt je op in de resultaten? Was dit wat je verwachtte? Verklaar je antwoord met een verwijzing naar de time complexity (big-Oh) van QuickSort. \n",
    "* Laten we nog eens iets anders proberen voor de pivot. Schrijf nog een alternatieve versie van quicksort die op regel 1 in plaats van een random pivot of de minimumwaarde, nu de **mediaan** van de elementen tussen $lo$ and $hi$ (uit $a$) pakt. Voor de mediaan pakken we de middelste waarde. Bijvoorbeeld, de mediaan van {1, 7, 3, 8, 3, 9, 6} is 6. In Python 3 is dit geïmplementeerd met de standaardfunctie **median()** in de **statistics** module. \n",
    "* Vergelijk deze nieuwe versie door middel van je testfunctie voor verschillende groottes van inputlijsten, en voeg de resultaten toe aan je plot. \n",
    "* Schrijf nu een nieuwe testfunctie die de resultaten in termen van runtime vergelijkt in plaats van het aantal vergelijkingen, en plot de resultaten voor de drie alternatieve quick-sorts. \n",
    "* Licht de resultaten toe, en verklaar de verschillen?\n",
    "* Wat het een goed idee om de mediaan te pakken als pivot? Waarom wel/niet? (Gebruik de time complexity in termen van big-Oh om hier antwoord op te geven.) "
   ]
  },
  {
   "cell_type": "code",
   "execution_count": null,
   "metadata": {},
   "outputs": [],
   "source": [
    "# Schrijf hier de code voor opgave 2\n"
   ]
  },
  {
   "cell_type": "markdown",
   "metadata": {},
   "source": [
    "*beantwoordt hier de vragen van opgave 2*"
   ]
  },
  {
   "cell_type": "markdown",
   "metadata": {},
   "source": [
    "## Opgave 3: Priority Queue (waarin we zelf een datastructuur gaan kiezen om een andere datastructuur bovenop te bouwen)\n",
    "\n",
    "**NB: voor deze opgave heb je een partner nodig. (Nee, geen romantische partner, een practicumpartner die ook deze cursus volgt.) Neem contact op met het groepje waarin je bent ingedeeld voor de besprekingsmomenten, en bespreek vooraf de keuzes voor deze opgave (qua datastructuur). Het is van belang dat niet iedereen dezelfde datastructuur pakt namelijk, anders valt er weinig te vergelijken. *Als je niet bent ingedeeld, of je je groepsgenoten reageren niet, neem dan zsm even contactop met Marius of Diederik, dan zoeken we naar een oplossing.*  **\n",
    "\n",
    "PriorityQueues zijn een datastructuur met de volgende eigenschappen: \n",
    "* Het is een wachtrij, waarbij elk element een *prioriteit* toegekend krijgt. Deze prioriteit is meestal een integer, (maar soms kan het ook een float zijn). \n",
    "* Bij gelijke *prioriteit* (dus bijvoorbeeld, alle elementen in de rij hebben prioriteit *1*) gedraagt een priority queue zich net zoals een queue; first in first out (FIFO)\n",
    "* Echter, als er een element met een hogere prioriteit wordt toegevoegd gaat deze eerst. \n",
    "\n",
    "Priority Queues worden veel gebruikt bij dingen als task-scheduling binnen applicaties, het OS, of de cloud (https://www.researchgate.net/publication/257726215_A_Priority_Based_Job_Scheduling_Algorithm_in_Cloud_Computing), wachtrijen voor verzenden (telefoongespreken zijn belangrijker dan e-mails want ze moeten real-time) (https://patentimages.storage.googleapis.com/72/1a/c2/7cd0205566e125/US7310670.pdf), maar ook bijvoorbeeld binnen zelf-lerende systemen door te kijken naar welke \"ervaringen\" de meeste leeropbrengst zouden opleveren (en die dan eerst verwerken) zodat het systeem sneller leert (https://link.springer.com/content/pdf/10.1007/BF00993104.pdf). \n",
    "\n",
    "In deze opgave gaan we kijken naar hoe we een priority kunnen bouwen, bovenop eenvoudigere datastructuren. De datastructuur onliggend aan een PriorityQueue zouden we namelijk wel eens anders moeten kunnen willen kiezen dan een gewone queue: het inserten van nieuwe elementen (die nu midden in de queue zouden kunnen komen) is namelijk een stuk lastiger (we zouden makkelijk elementen moeten kunnen toevoegen in het midden van de priority queue).\n",
    "\n",
    "Enkele tips hierbij: kijk alvast eens naar recursieve datastructuren (volgend college) zoals de doubly linked list. Of verzin zelf een slimme list om priorities er goed in te krijgen. (Je zou bijvoorbeeld voordeel kunnen hebben als je van te voren al weet dat er bijvoorbeeld tien mogelijke prioriteiten zijn - als je zo'n aanname wilt maken, geef dit dan duidelijk aan in het commentaar.) Als je helemaal los wilt gaan, kijk dan eens naar de heap datastructuur (ook wel een heap-boom, https://en.wikipedia.org/wiki/Heap_(data_structure) , NB: dit is niet hetzelfde als de \"heap\" als rereserveerde geheugenruimte op een chip; daar wordt ongelukkigerwijs helaas dezelfde naam voor gebruikt, maar is iets compleet anders.)\n",
    "\n",
    "* Onderzoek samen met je practicumpartner mogelijke keuzes voor de onderliggende datastructuur voor een priority queue, en spreek af wie welke gaat doen. (Twee verschillenden)\n",
    "* Leg voor de keuze die jij zelf gaat implementeren waarom jullie deze gekozen hebben. \n",
    "* Implementeer de priority queue met de gekozen datastructuur, en daarbij de volgende functies: \n",
    "    * **queue(v, p)** adds value $v$ with priority $p$ to the queue.\n",
    "    * **dequeue()** returns the value with the highest priority and removes the element from the queue.\n",
    "    * **contains(v)** returns \\textit{True} if and only if the queue contains value $v$.\n",
    "    * **remove(e)** removes all elements with value $v$ from the queue.\n",
    "* Analyseer de time complexity van deze priority queue functies zoals je ze hebt geïmplementeerd. Zet je analyse in het commentaar bij de code (zowel de argumentatie als het big-Oh resultaat).\n",
    "* Schrijf een testfunctie voor alle bovenstaande functies om de runtime te meten bij het inserten (queue) van X random waardes met random prioriteiten, het dequeuen van al deze X waarden, het vinden (contains) van Y random waarden (uiteraard kleiner dan X, en te testen vóór alles gedequeued is), en het removen van Z waarden (wederom kleiner dan X en het best los te testen onafhankelijk van de andere functies). \n",
    "* Neem nu de implementatie over van je practicumpartner in een aparte cell, en maak daaronder een runtimevergelijking voor alle vier de functies. Plot de resultaten met matplotlib.pyplot, met zowel de gemiddelden als de standaardafwijken (als error regions), zoals we gewend zijn van de eerste tutorial. \n",
    "* Welke verschillen zie je in de plotjes? Kan je dit verklaren? Zijn er bijvoorbeeld verschillen qua time complexity?\n"
   ]
  },
  {
   "cell_type": "markdown",
   "metadata": {},
   "source": [
    "*leg hier je keuze voor de onderliggende datastructuur uit*"
   ]
  },
  {
   "cell_type": "code",
   "execution_count": 1,
   "metadata": {},
   "outputs": [],
   "source": [
    "# schrijf hier je eigen implementatie van de priority queue, met runtime analyse in het commentaar, en de testfunctie\n"
   ]
  },
  {
   "cell_type": "code",
   "execution_count": null,
   "metadata": {},
   "outputs": [],
   "source": [
    "# neem hier de code van je practicumpartner over (NB: misschien zul je de class even moeten hernoemen\n",
    "# maar het is wel handig om dezelfde functienamen te gebruiken)\n"
   ]
  },
  {
   "cell_type": "code",
   "execution_count": null,
   "metadata": {},
   "outputs": [],
   "source": [
    "# schrijf hier de experimentele vergelijking van jullie vier methodes, en de code om de plotjes te maken\n"
   ]
  },
  {
   "cell_type": "markdown",
   "metadata": {},
   "source": [
    "*verklaar hier de verschillen in runtime tussen de twee implementaties (met verschillende onderliggende datastructuur)*"
   ]
  }
 ],
 "metadata": {
  "kernelspec": {
   "display_name": "Python 3.11.0 64-bit",
   "language": "python",
   "name": "python3"
  },
  "language_info": {
   "codemirror_mode": {
    "name": "ipython",
    "version": 3
   },
   "file_extension": ".py",
   "mimetype": "text/x-python",
   "name": "python",
   "nbconvert_exporter": "python",
   "pygments_lexer": "ipython3",
   "version": "3.11.0"
  },
  "vscode": {
   "interpreter": {
    "hash": "6944c8001da7176b6f64d91d6260bac2cf4e989f54ca0e9f53d05cb11393a5d9"
   }
  }
 },
 "nbformat": 4,
 "nbformat_minor": 4
}
